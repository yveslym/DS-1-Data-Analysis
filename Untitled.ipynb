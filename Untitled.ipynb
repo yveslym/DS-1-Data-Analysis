{
 "cells": [
  {
   "cell_type": "code",
   "execution_count": 4,
   "metadata": {
    "collapsed": true
   },
   "outputs": [],
   "source": [
    "\"\"\"\" \n",
    "Challenge Question #10\n",
    "For this question, you will need to use SQL to grab the correct \n",
    "data set, and then export it from Mode Analytics as a .CSV file.  \n",
    "To answer this question, you will need to use our favorite \n",
    "tech stack: a Jupyter notebook, Pandas, SciPy.stats, and MatPlotLib.\n",
    "\n",
    "Hint: What’s the easiest way to check if you’ll need \n",
    "to use sampling/Central Limit Theorem techniques?\n",
    "\n",
    "For companies in SF with names that start with the letter ‘a’,\n",
    "what percentage of companies raise a funding total between\n",
    "between $25 and $30 million? Create a visualization that shows \n",
    "this on a graph of a normal distribution.  \n",
    "\"\"\"\n",
    "\n",
    "\n",
    "\n",
    "\n",
    "# Run this cell to import the packages you'll need and set a seed\n",
    "import numpy as np\n",
    "import random\n",
    "import pandas as pd\n",
    "import matplotlib.pyplot as plt\n",
    "%matplotlib inline\n",
    "\n",
    "# Please dont change this--otherwise, you'll get different results from everyone else!\n",
    "np.random.seed(1500)"
   ]
  },
  {
   "cell_type": "code",
   "execution_count": 13,
   "metadata": {},
   "outputs": [
    {
     "data": {
      "text/plain": [
       "(array([  1.85700000e+03,   5.20000000e+01,   1.10000000e+01,\n",
       "          6.00000000e+00,   2.00000000e+00,   2.00000000e+00,\n",
       "          0.00000000e+00,   1.00000000e+00,   0.00000000e+00,\n",
       "          1.00000000e+00]),\n",
       " array([  3.06400000e+03,   1.00002758e+08,   2.00002451e+08,\n",
       "          3.00002145e+08,   4.00001838e+08,   5.00001532e+08,\n",
       "          6.00001226e+08,   7.00000919e+08,   8.00000613e+08,\n",
       "          9.00000306e+08,   1.00000000e+09]),\n",
       " <a list of 10 Patch objects>)"
      ]
     },
     "execution_count": 13,
     "metadata": {},
     "output_type": "execute_result"
    },
    {
     "data": {
      "image/png": "[encoded data removed]",
      "text/plain": [
       "<matplotlib.figure.Figure at 0x1110fc828>"
      ]
     },
     "metadata": {},
     "output_type": "display_data"
    }
   ],
   "source": [
    "path = \"datasets/company.csv\"\n",
    "df = pd.read_csv(path)\n",
    "plt.hist(df[\"funding_total_usd\"])"
   ]
  },
  {
   "cell_type": "code",
   "execution_count": 6,
   "metadata": {
    "collapsed": true
   },
   "outputs": [],
   "source": [
    "# Complete the two functions below.  \n",
    "def get_sample(dataset, n=30):\n",
    "    \"\"\"Grabs a random subsample of size 'n' from dataset.\n",
    "    Outputs the mean of the subsample.\"\"\"\n",
    "    \n",
    "    sample_set = np.random.choice(dataset,n)\n",
    "    sample_mean = np.sum(sample_set)/n\n",
    "    return sample_mean\n",
    "    \n",
    "\n",
    "def create_sample_distribution(dataset, size=100):\n",
    "    \"\"\"Creates a dataset of subsample means.  The length of the dataset is specified by the 'size' \n",
    "    keyword argument. Should return the entire sample distribution as a numpy array.  \"\"\"\n",
    "    mean_set = np.empty((0,size))\n",
    "    for _ in range(0, size):\n",
    "        \n",
    "        n = random.randint(30,100)\n",
    "        sample_mean = get_sample(dataset, n)\n",
    "        mean_set = np.append(mean_set, sample_mean)\n",
    "    return mean_set \n"
   ]
  },
  {
   "cell_type": "code",
   "execution_count": 7,
   "metadata": {},
   "outputs": [],
   "source": [
    "# get the dataset\n",
    "dataset = df[\"funding_total_usd\"]\n"
   ]
  },
  {
   "cell_type": "code",
   "execution_count": 10,
   "metadata": {},
   "outputs": [],
   "source": [
    "# distribution\n",
    "distribution = create_sample_distribution(dataset,50000)\n"
   ]
  },
  {
   "cell_type": "code",
   "execution_count": 9,
   "metadata": {},
   "outputs": [
    {
     "data": {
      "text/plain": [
       "(array([  4.79000000e+02,   2.10400000e+03,   1.57800000e+03,\n",
       "          5.84000000e+02,   1.63000000e+02,   6.30000000e+01,\n",
       "          2.10000000e+01,   3.00000000e+00,   3.00000000e+00,\n",
       "          2.00000000e+00]),\n",
       " array([  5296661.33333333,  11722083.14864865,  18147504.96396396,\n",
       "         24572926.77927928,  30998348.59459459,  37423770.4099099 ,\n",
       "         43849192.22522523,  50274614.04054054,  56700035.85585585,\n",
       "         63125457.67117117,  69550879.48648648]),\n",
       " <a list of 10 Patch objects>)"
      ]
     },
     "execution_count": 9,
     "metadata": {},
     "output_type": "execute_result"
    },
    {
     "data": {
      "image/png": "[encoded data removed]",
      "text/plain": [
       "<matplotlib.figure.Figure at 0x115786208>"
      ]
     },
     "metadata": {},
     "output_type": "display_data"
    }
   ],
   "source": [
    "plt.hist(distribution)"
   ]
  },
  {
   "cell_type": "code",
   "execution_count": null,
   "metadata": {
    "collapsed": true
   },
   "outputs": [],
   "source": []
  }
 ],
 "metadata": {
  "kernelspec": {
   "display_name": "Python 3",
   "language": "python",
   "name": "python3"
  },
  "language_info": {
   "codemirror_mode": {
    "name": "ipython",
    "version": 3
   },
   "file_extension": ".py",
   "mimetype": "text/x-python",
   "name": "python",
   "nbconvert_exporter": "python",
   "pygments_lexer": "ipython3",
   "version": "3.6.3"
  }
 },
 "nbformat": 4,
 "nbformat_minor": 2
}
