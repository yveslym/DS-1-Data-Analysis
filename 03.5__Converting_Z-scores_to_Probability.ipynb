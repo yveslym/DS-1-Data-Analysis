{
 "cells": [
  {
   "cell_type": "markdown",
   "metadata": {},
   "source": [
    "<center><img src='img/ms_logo.jpeg' height=40% width=40%></center>\n",
    "\n",
    "<center><h1>Z-Scores and Probability: Practice Problems</h1></center>\n",
    "\n",
    "This notebook is designed as a way to practice answering questions of probability using the Z scores and the Standard Normal Distribution.  \n",
    "\n",
    "Try to answer the three following questions:\n",
    "\n",
    "\n",
    "**1.**  The average height of students at Make School is 5'7\", with a standard deviation of 2.5 inches.  What percentage of Make School students are between 5'5\" and 6' tall?\n",
    "<br>\n",
    "<br>\n",
    "**2.**  The average startup in San Francisco raises 1.5 million dollars with a standard deviation of 400,000 dollars.  Your boss wants to raise a 3 million dollar seed round.  Based only on how other startups have done, what are the odds (percentage chance) that he will be successful?\n",
    "<br>\n",
    "<br>\n",
    "**3.**  You've decided to track the number of jokes Alan makes at Mike's expense during a given class period.  Alan averages 2.5 jokes about Mike per class, with a standard deviation of .7 jokes.  Mike has had a rough day, and will probably start crying if Alan makes more than 2 jokes about him today.  What is the percentage chance that Mike will NOT break down crying in class today?\n",
    "\n",
    "**NOTE:** To solve these questions, you can use a lookup-table for the Z-score, or just use the stats package inside of scipy.  \n",
    "\n",
    "To compute the cumulative area to the **left** of a Z-score, use the cumulative density function.\n",
    "<br>\n",
    "<center>`st.norm.cdf(z-score)`</center>\n",
    "<br>\n",
    "\n",
    "To compute the cumulative area to the **right** of a Z-score, use the survival function.\n",
    "<br>\n",
    "<center>`st.norm.sf(z-score)`</center>\n",
    "<br>\n",
    "\n",
    "Recall that to calculate a Z-score for a particular point, you need to **_normalize_** it by subtracting the mean from that point, and then dividing that number by the standard deviation.  "
   ]
  },
  {
   "cell_type": "code",
   "execution_count": null,
   "metadata": {},
   "outputs": [],
   "source": [
    "import scipy.stats as st\n",
    "# Example use:\n",
    "# A Z-score of ~1.64 == ~95% to the left, ~5% to the right\n",
    "left_tail = st.norm.cdf(1.64)\n",
    "right_tail = st.norm.sf(1.64)\n",
    "\n",
    "\n",
    "print(\"Area to the left: {}\".format(left_tail))\n",
    "print(\"Area to the right: {}\".format(right_tail))\n",
    "print(\"total area under curve: {}\".format(left_tail + right_tail))"
   ]
  },
  {
   "cell_type": "code",
   "execution_count": null,
   "metadata": {},
   "outputs": [],
   "source": [
    "# Now, write some code to find the answers to the questions listed above! \n"
   ]
  },
  {
   "cell_type": "markdown",
   "metadata": {},
   "source": [
    "Answer 1:\n",
    "\n",
    "\n",
    "\n",
    "Answer 2:\n",
    "\n",
    "\n",
    "\n",
    "Answer 3:\n",
    "\n",
    "\n"
   ]
  }
 ],
 "metadata": {
  "kernelspec": {
   "display_name": "Python [conda env:MS-ML-P3]",
   "language": "python",
   "name": "conda-env-MS-ML-P3-py"
  },
  "language_info": {
   "codemirror_mode": {
    "name": "ipython",
    "version": 3
   },
   "file_extension": ".py",
   "mimetype": "text/x-python",
   "name": "python",
   "nbconvert_exporter": "python",
   "pygments_lexer": "ipython3",
   "version": "3.5.2"
  }
 },
 "nbformat": 4,
 "nbformat_minor": 2
}
